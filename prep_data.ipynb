{
 "cells": [
  {
   "cell_type": "code",
   "execution_count": 74,
   "metadata": {},
   "outputs": [],
   "source": [
    "import os\n",
    "import numpy as np\n",
    "import nibabel as nib\n",
    "import operator\n",
    "import matplotlib.pyplot as plt"
   ]
  },
  {
   "cell_type": "markdown",
   "metadata": {},
   "source": [
    "# Prepare thigh data"
   ]
  },
  {
   "cell_type": "code",
   "execution_count": 16,
   "metadata": {},
   "outputs": [],
   "source": [
    "root_dir = '/home/donal/t/Donal/thigh_nii/'\n",
    "out_dir = './data/'"
   ]
  },
  {
   "cell_type": "code",
   "execution_count": 24,
   "metadata": {},
   "outputs": [],
   "source": [
    "def clean_ids(path):\n",
    "    data = {}\n",
    "    for file in os.listdir(path):\n",
    "        if 'masks' in path:\n",
    "            id_ = file.split('_Sarc_')[-1].split('_')[0]\n",
    "        elif 'scans' in path:\n",
    "            id_ = file.split('SARC_')[-1].split('_')[0]\n",
    "        if '.nii' in id_:\n",
    "            id_ = id_.split('.')[0]\n",
    "        id_num = int(id_)\n",
    "        data[id_num] = path + file\n",
    "    return data"
   ]
  },
  {
   "cell_type": "code",
   "execution_count": 28,
   "metadata": {},
   "outputs": [],
   "source": [
    "mask_data = clean_ids(root_dir +'masks/')\n",
    "slice_data = clean_ids(root_dir + 'scans/')\n",
    "assert mask_data.keys() == slice_data.keys()"
   ]
  },
  {
   "cell_type": "code",
   "execution_count": 31,
   "metadata": {},
   "outputs": [
    {
     "data": {
      "text/plain": [
       "(dict_keys([1, 3, 5, 6, 8, 9, 10, 14, 15, 19, 20, 24, 26, 28, 29, 30, 32, 33, 34, 36]),\n",
       " dict_keys([1, 3, 5, 6, 8, 9, 10, 14, 15, 19, 20, 24, 26, 28, 29, 30, 32, 33, 34, 36]))"
      ]
     },
     "execution_count": 31,
     "metadata": {},
     "output_type": "execute_result"
    }
   ],
   "source": [
    "mask_data.keys(), slice_data.keys()"
   ]
  },
  {
   "cell_type": "code",
   "execution_count": 85,
   "metadata": {},
   "outputs": [],
   "source": [
    "def extract_slice(img_path, mask_path, plot=False):\n",
    "    # Find slice number where mask != 0\n",
    "    img = nib.load(img_path).get_fdata()\n",
    "    mask = nib.load(mask_path).get_fdata()\n",
    "    assert img.shape ==  mask.shape, \"Mask and image shape don't match\"\n",
    "    all_counts = {}\n",
    "    # Count occurences - should handle multiple slices w/ delin.\n",
    "    for i in range(mask.shape[-1]):\n",
    "        unique, counts = np.unique(mask[..., i], return_counts=True)\n",
    "        occ = dict(zip(unique, counts))\n",
    "        if 1 in occ.keys():\n",
    "            all_counts[i] = occ[1]\n",
    "    print(all_counts)\n",
    "    # Filter by number of occurences\n",
    "    if len(all_counts.keys()) == 1:\n",
    "        idx = [int(k) for k in all_counts]\n",
    "    else:\n",
    "        idx = int(max(all_counts, key=lambda key: all_counts[key]))\n",
    "    print(idx)\n",
    "    slice_, contour = np.rot90(np.squeeze(img[..., idx]), k=-1), np.rot90(np.squeeze(mask[..., idx]), k=-1)\n",
    "    # ---SAVE -- \n",
    "    np.save(f\"./data/slices/{img_path.split('/')[-1].split('.')[0]}.npy\", slice_)\n",
    "    np.save(f\"./data/masks/{img_path.split('/')[-1].split('.')[0]}.npy\", contour)\n",
    "    # ---- PLOT --- \n",
    "    if plot:\n",
    "        plot_slice = np.clip(slice_, a_min=874, a_max=1274)\n",
    "        plot_contour = np.where(contour == 0, np.nan, 1)\n",
    "        fig, ax = plt.subplots(1, 1, figsize=(10, 10))\n",
    "        ax.axis('off')\n",
    "        ax.imshow(plot_slice, cmap='gray')\n",
    "        ax.imshow(plot_contour, alpha=0.5)\n",
    "        fig.savefig(f\"./sanity/{img_path.split('/')[-1].split('.')[0]}.png\")\n",
    "        plt.close()"
   ]
  },
  {
   "cell_type": "code",
   "execution_count": 86,
   "metadata": {},
   "outputs": [
    {
     "name": "stdout",
     "output_type": "stream",
     "text": [
      "{242: 26402}\n",
      "[242]\n",
      "{230: 35185}\n",
      "[230]\n",
      "{252: 34565}\n",
      "[252]\n",
      "{144: 41905}\n",
      "[144]\n",
      "{229: 28036}\n",
      "[229]\n",
      "{189: 34790}\n",
      "[189]\n",
      "{241: 29357}\n",
      "[241]\n",
      "{229: 27171}\n",
      "[229]\n",
      "{218: 38143}\n",
      "[218]\n",
      "{144: 30742}\n",
      "[144]\n",
      "{250: 35879}\n",
      "[250]\n",
      "{250: 44252}\n",
      "[250]\n",
      "{239: 37848}\n",
      "[239]\n",
      "{242: 21011}\n",
      "[242]\n",
      "{131: 2138, 246: 22099}\n",
      "246\n",
      "{243: 30198}\n",
      "[243]\n",
      "{236: 35559}\n",
      "[236]\n",
      "{237: 11648}\n",
      "[237]\n",
      "{218: 37768}\n",
      "[218]\n",
      "{119: 15483, 230: 24956}\n",
      "230\n"
     ]
    }
   ],
   "source": [
    "for key in slice_data.keys():\n",
    "    extract_slice(slice_data[key], mask_data[key], plot=True)"
   ]
  }
 ],
 "metadata": {
  "kernelspec": {
   "display_name": "Python 3.6.9 64-bit",
   "language": "python",
   "name": "python36964bit98fe25e7fd654aa0a45dd829ca911dc9"
  },
  "language_info": {
   "codemirror_mode": {
    "name": "ipython",
    "version": 3
   },
   "file_extension": ".py",
   "mimetype": "text/x-python",
   "name": "python",
   "nbconvert_exporter": "python",
   "pygments_lexer": "ipython3",
   "version": "3.6.9"
  }
 },
 "nbformat": 4,
 "nbformat_minor": 4
}
