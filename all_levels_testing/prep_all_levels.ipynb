{
 "cells": [
  {
   "cell_type": "code",
   "execution_count": 2,
   "metadata": {},
   "outputs": [],
   "source": [
    "import os\n",
    "import shutil\n",
    "import numpy as np\n",
    "import SimpleITK as sitk"
   ]
  },
  {
   "cell_type": "markdown",
   "metadata": {},
   "source": [
    "Merge datasets for every level"
   ]
  },
  {
   "cell_type": "code",
   "execution_count": 9,
   "metadata": {},
   "outputs": [],
   "source": [
    "root_dir = '/data/sarcopenia/MRes_data/'\n",
    "output_dir = '/data/sarcopenia/all_levels/split_data/'\n",
    "\n",
    "levels = ['L3']\n"
   ]
  },
  {
   "cell_type": "code",
   "execution_count": 10,
   "metadata": {},
   "outputs": [
    {
     "name": "stdout",
     "output_type": "stream",
     "text": [
      "C3\n",
      "T4\n",
      "T9\n",
      "T12\n",
      "L3\n"
     ]
    }
   ],
   "source": [
    "\n",
    "for level in levels:\n",
    "    print(level)\n",
    "    for type_ in ['testing', 'training', 'validation']:\n",
    "        level_path = os.path.join(root_dir, level, 'split_data', type_)\n",
    "        mask_dir = os.path.join(level_path, 'masks')\n",
    "        slice_dir = os.path.join(level_path, 'slices')\n",
    "\n",
    "        for file in os.listdir(mask_dir):\n",
    "            pid = file.rstrip('.npy')\n",
    "            new_name = f'{pid}_{level}.npy'\n",
    "            # Copy masks\n",
    "            # shutil.copyfile(\n",
    "            #     os.path.join(mask_dir, file),\n",
    "            #     os.path.join(output_dir, type_, 'masks', new_name))\n",
    "            # Copy slices\n",
    "            # shutil.copyfile(\n",
    "            #     os.path.join(slice_dir, file),\n",
    "            #     os.path.join(output_dir, type_, 'slices', new_name))"
   ]
  },
  {
   "cell_type": "markdown",
   "metadata": {},
   "source": [
    "## Prepare inference"
   ]
  },
  {
   "cell_type": "markdown",
   "metadata": {},
   "source": [
    "Read patient dicom and write each slice to npy"
   ]
  },
  {
   "cell_type": "code",
   "execution_count": 4,
   "metadata": {},
   "outputs": [
    {
     "name": "stdout",
     "output_type": "stream",
     "text": [
      "(512, 512, 215) (0.976563, 0.976563, 3.2700001355140187)\n",
      "(512, 512, 206) (0.976563, 0.976563, 4.0)\n",
      "(512, 512, 239) (0.976563, 0.976563, 3.2700000420168065)\n"
     ]
    }
   ],
   "source": [
    "path = '/data/sarcopenia/test_dicom/'\n",
    "output_dir = '/data/sarcopenia/all_levels/inference/'\n",
    "\n",
    "for patient in os.listdir(path):\n",
    "    pat_dir = os.path.join(path, patient)\n",
    "    reader = sitk.ImageSeriesReader()\n",
    "    dcm_names = reader.GetGDCMSeriesFileNames(pat_dir)\n",
    "    reader.SetFileNames(dcm_names)\n",
    "    Image = reader.Execute()\n",
    "    print(Image.GetSize(), Image.GetSpacing())\n",
    "    image = sitk.GetArrayFromImage(Image)\n",
    "    for i in range(image.shape[0]):\n",
    "        im = image[i]\n",
    "        np.save(os.path.join(output_dir, patient+f'_{i}.npy'), arr=im)\n"
   ]
  }
 ],
 "metadata": {
  "kernelspec": {
   "display_name": "Python 3.9.12 ('py39')",
   "language": "python",
   "name": "python3"
  },
  "language_info": {
   "codemirror_mode": {
    "name": "ipython",
    "version": 3
   },
   "file_extension": ".py",
   "mimetype": "text/x-python",
   "name": "python",
   "nbconvert_exporter": "python",
   "pygments_lexer": "ipython3",
   "version": "3.9.7"
  },
  "orig_nbformat": 4,
  "vscode": {
   "interpreter": {
    "hash": "0dea286b3615d9b425b78c525d42bea8f63f3c23743b8d1581ed0540545c147d"
   }
  }
 },
 "nbformat": 4,
 "nbformat_minor": 2
}
